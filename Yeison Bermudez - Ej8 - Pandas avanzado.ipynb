{
 "cells": [
  {
   "cell_type": "markdown",
   "metadata": {},
   "source": [
    "# **Yeison Bermudez**\n",
    "\n",
    "\n",
    "**1751400**\n",
    "\n",
    "\n",
    "**Cuaderno #8 - Pandas avanzado**\n",
    "\n",
    "\n",
    "**22 de Noviembre del 2019**"
   ]
  },
  {
   "cell_type": "markdown",
   "metadata": {},
   "source": [
    "## Agrupamiento, agregación y pivote\n",
    "\n",
    "Preparación de datos."
   ]
  },
  {
   "cell_type": "code",
   "execution_count": 1,
   "metadata": {},
   "outputs": [],
   "source": [
    "## importa la librería\n",
    "import pandas\n",
    "import numpy as np\n",
    "\n",
    "pandas.set_option('display.notebook_repr_html', False)"
   ]
  },
  {
   "cell_type": "code",
   "execution_count": 2,
   "metadata": {},
   "outputs": [],
   "source": [
    "## Lee el archivo del disco.\n",
    "x = pandas.read_csv('files/iris.csv',\n",
    "                     sep = ',',\n",
    "                     thousands = None,\n",
    "                     decimal = '.')"
   ]
  },
  {
   "cell_type": "markdown",
   "metadata": {},
   "source": [
    "### Agrupamiento\n",
    "\n",
    "Los dataframes de Pandas pueden ser intepretados en ocasiones como tablas de SQL en donde es posible realizar agregaciones y operaciones simples sobre los campos."
   ]
  },
  {
   "cell_type": "code",
   "execution_count": 3,
   "metadata": {},
   "outputs": [
    {
     "data": {
      "text/plain": [
       "  variety  sepal.width  sepal.length  petal.width  petal.length\n",
       "0  Setosa          3.5           5.1          0.2           1.4\n",
       "1  Setosa          3.0           4.9          0.2           1.4\n",
       "2  Setosa          3.2           4.7          0.2           1.3\n",
       "3  Setosa          3.1           4.6          0.2           1.5\n",
       "4  Setosa          3.6           5.0          0.2           1.4"
      ]
     },
     "execution_count": 3,
     "metadata": {},
     "output_type": "execute_result"
    }
   ],
   "source": [
    "## Se agrupa el set de datos por una columna dada\n",
    "x.sort_index(1, ascending = False).head()"
   ]
  },
  {
   "cell_type": "code",
   "execution_count": 4,
   "metadata": {},
   "outputs": [
    {
     "data": {
      "text/plain": [
       "     sepal.length  sepal.width  petal.length  petal.width     variety\n",
       "60            5.0          2.0           3.5          1.0  Versicolor\n",
       "62            6.0          2.2           4.0          1.0  Versicolor\n",
       "119           6.0          2.2           5.0          1.5   Virginica\n",
       "68            6.2          2.2           4.5          1.5  Versicolor\n",
       "41            4.5          2.3           1.3          0.3      Setosa\n",
       "93            5.0          2.3           3.3          1.0  Versicolor\n",
       "53            5.5          2.3           4.0          1.3  Versicolor\n",
       "87            6.3          2.3           4.4          1.3  Versicolor\n",
       "57            4.9          2.4           3.3          1.0  Versicolor\n",
       "80            5.5          2.4           3.8          1.1  Versicolor"
      ]
     },
     "execution_count": 4,
     "metadata": {},
     "output_type": "execute_result"
    }
   ],
   "source": [
    "## ordena por varias columnas\n",
    "## devuelve los indices de las filas\n",
    "## ordena primero por Sepal.Width y luego por Sepal.Length\n",
    "x.sort_values(by = ['sepal.width', 'sepal.length']).head(10)"
   ]
  },
  {
   "cell_type": "code",
   "execution_count": 5,
   "metadata": {},
   "outputs": [
    {
     "data": {
      "text/plain": [
       "dict_keys(['Setosa', 'Versicolor', 'Virginica'])"
      ]
     },
     "execution_count": 5,
     "metadata": {},
     "output_type": "execute_result"
    }
   ],
   "source": [
    "## partición por los valores de la columna `variety`\n",
    "y = x.groupby('variety')\n",
    "y.groups.keys()"
   ]
  },
  {
   "cell_type": "code",
   "execution_count": 6,
   "metadata": {},
   "outputs": [
    {
     "data": {
      "text/plain": [
       "3"
      ]
     },
     "execution_count": 6,
     "metadata": {},
     "output_type": "execute_result"
    }
   ],
   "source": [
    "## Cantidad de grupos. Este comando funciona como un select distintc en SQL\n",
    "len(y.groups)"
   ]
  },
  {
   "cell_type": "code",
   "execution_count": 7,
   "metadata": {},
   "outputs": [
    {
     "data": {
      "text/plain": [
       "variety\n",
       "Setosa        50\n",
       "Versicolor    50\n",
       "Virginica     50\n",
       "dtype: int64"
      ]
     },
     "execution_count": 7,
     "metadata": {},
     "output_type": "execute_result"
    }
   ],
   "source": [
    "## Cantidad de grupos. Funciona como un agrupamiento y conteo por la columna variety en SQL.\n",
    "y.size()"
   ]
  },
  {
   "cell_type": "code",
   "execution_count": 8,
   "metadata": {},
   "outputs": [
    {
     "data": {
      "text/plain": [
       "   sepal.length  sepal.width  petal.length  petal.width variety\n",
       "0           5.1          3.5           1.4          0.2  Setosa\n",
       "1           4.9          3.0           1.4          0.2  Setosa\n",
       "2           4.7          3.2           1.3          0.2  Setosa\n",
       "3           4.6          3.1           1.5          0.2  Setosa\n",
       "4           5.0          3.6           1.4          0.2  Setosa"
      ]
     },
     "execution_count": 8,
     "metadata": {},
     "output_type": "execute_result"
    }
   ],
   "source": [
    "## Elementos de un subgrupo agregado.\n",
    "x.loc[y.groups['Setosa']].head()"
   ]
  },
  {
   "cell_type": "code",
   "execution_count": 9,
   "metadata": {},
   "outputs": [
    {
     "data": {
      "text/plain": [
       "     sepal.length  sepal.width  petal.length  petal.width    variety\n",
       "100           6.3          3.3           6.0          2.5  Virginica\n",
       "101           5.8          2.7           5.1          1.9  Virginica\n",
       "102           7.1          3.0           5.9          2.1  Virginica\n",
       "103           6.3          2.9           5.6          1.8  Virginica\n",
       "104           6.5          3.0           5.8          2.2  Virginica"
      ]
     },
     "execution_count": 9,
     "metadata": {},
     "output_type": "execute_result"
    }
   ],
   "source": [
    "## Elementos de otro subgrupo\n",
    "x.loc[y.groups['Virginica']].head()"
   ]
  },
  {
   "cell_type": "markdown",
   "metadata": {},
   "source": [
    "### Agregación\n",
    "\n",
    "Es posible realizar operaciones simples sobre las columnas o filas de un dataframe de Pandas. A continuación algunas de ellas:"
   ]
  },
  {
   "cell_type": "code",
   "execution_count": 10,
   "metadata": {},
   "outputs": [
    {
     "data": {
      "text/plain": [
       "            sepal.length  sepal.width  petal.length  petal.width\n",
       "variety                                                         \n",
       "Setosa             250.3        171.4          73.1         12.3\n",
       "Versicolor         296.8        138.5         213.0         66.3\n",
       "Virginica          329.4        148.7         277.6        101.3"
      ]
     },
     "execution_count": 10,
     "metadata": {},
     "output_type": "execute_result"
    }
   ],
   "source": [
    "## Se aplica la suma de cada columna para cada especie. La salida es un nuevo dataframe.\n",
    "x.groupby('variety').sum()"
   ]
  },
  {
   "cell_type": "code",
   "execution_count": 11,
   "metadata": {},
   "outputs": [
    {
     "data": {
      "text/plain": [
       "variety\n",
       "Setosa        250.3\n",
       "Versicolor    296.8\n",
       "Virginica     329.4\n",
       "Name: sepal.length, dtype: float64"
      ]
     },
     "execution_count": 11,
     "metadata": {},
     "output_type": "execute_result"
    }
   ],
   "source": [
    "## Se seleccionan solo para la medida Sepal_Length\n",
    "(x.groupby('variety').sum())[\"sepal.length\"]"
   ]
  },
  {
   "cell_type": "code",
   "execution_count": 12,
   "metadata": {},
   "outputs": [
    {
     "data": {
      "text/plain": [
       "Versicolor    50\n",
       "Setosa        50\n",
       "Virginica     50\n",
       "Name: variety, dtype: int64"
      ]
     },
     "execution_count": 12,
     "metadata": {},
     "output_type": "execute_result"
    }
   ],
   "source": [
    "## conteo de casos.\n",
    "## número de casos por `variety`\n",
    "x['variety'].value_counts()"
   ]
  },
  {
   "cell_type": "code",
   "execution_count": 13,
   "metadata": {},
   "outputs": [
    {
     "data": {
      "text/plain": [
       "5.0    10\n",
       "6.3     9\n",
       "5.1     9\n",
       "6.7     8\n",
       "5.7     8\n",
       "5.5     7\n",
       "5.8     7\n",
       "6.4     7\n",
       "6.0     6\n",
       "4.9     6\n",
       "6.1     6\n",
       "5.4     6\n",
       "5.6     6\n",
       "6.5     5\n",
       "4.8     5\n",
       "7.7     4\n",
       "6.9     4\n",
       "5.2     4\n",
       "6.2     4\n",
       "4.6     4\n",
       "7.2     3\n",
       "6.8     3\n",
       "4.4     3\n",
       "5.9     3\n",
       "6.6     2\n",
       "4.7     2\n",
       "7.6     1\n",
       "7.4     1\n",
       "4.3     1\n",
       "7.9     1\n",
       "7.3     1\n",
       "7.0     1\n",
       "4.5     1\n",
       "5.3     1\n",
       "7.1     1\n",
       "Name: sepal.length, dtype: int64"
      ]
     },
     "execution_count": 13,
     "metadata": {},
     "output_type": "execute_result"
    }
   ],
   "source": [
    "## conteo de casos por `Sepal.Length`\n",
    "x['sepal.length'].value_counts()"
   ]
  },
  {
   "cell_type": "code",
   "execution_count": 14,
   "metadata": {},
   "outputs": [
    {
     "data": {
      "text/plain": [
       "sepal.length    5.843333\n",
       "sepal.width     3.057333\n",
       "dtype: float64"
      ]
     },
     "execution_count": 14,
     "metadata": {},
     "output_type": "execute_result"
    }
   ],
   "source": [
    "## aplicación de una funcion a columnas especificas \n",
    "## de un data.frame\n",
    "import numpy as np\n",
    "x[['sepal.length', 'sepal.width']].apply(np.mean)"
   ]
  },
  {
   "cell_type": "code",
   "execution_count": 15,
   "metadata": {},
   "outputs": [
    {
     "data": {
      "text/plain": [
       "variety\n",
       "Setosa        5.006\n",
       "Versicolor    5.936\n",
       "Virginica     6.588\n",
       "Name: sepal.length, dtype: float64"
      ]
     },
     "execution_count": 15,
     "metadata": {},
     "output_type": "execute_result"
    }
   ],
   "source": [
    "## aplica la función a la columna especificada por grupos\n",
    "(x.groupby('variety').mean())[\"sepal.length\"]"
   ]
  },
  {
   "cell_type": "code",
   "execution_count": 16,
   "metadata": {},
   "outputs": [
    {
     "data": {
      "text/plain": [
       "            sepal.length  sepal.width  petal.length  petal.width\n",
       "variety                                                         \n",
       "Setosa             5.006        3.428         1.462        0.246\n",
       "Versicolor         5.936        2.770         4.260        1.326\n",
       "Virginica          6.588        2.974         5.552        2.026"
      ]
     },
     "execution_count": 16,
     "metadata": {},
     "output_type": "execute_result"
    }
   ],
   "source": [
    "## aplica la función a la columna especificada por grupos\n",
    "(x.groupby('variety').mean())[[\"sepal.length\", \n",
    "                               \"sepal.width\",\n",
    "                               \"petal.length\",\n",
    "                               \"petal.width\"]]"
   ]
  },
  {
   "cell_type": "code",
   "execution_count": 17,
   "metadata": {},
   "outputs": [
    {
     "data": {
      "text/plain": [
       "Versicolor    50\n",
       "Setosa        50\n",
       "Virginica     50\n",
       "Name: variety, dtype: int64"
      ]
     },
     "execution_count": 17,
     "metadata": {},
     "output_type": "execute_result"
    }
   ],
   "source": [
    "## UNION\n",
    "z = pandas.concat( [x.iloc[y.groups['Setosa']],\n",
    "                    x.iloc[y.groups['Virginica']],\n",
    "                    x.iloc[y.groups['Versicolor']]])\n",
    "\n",
    "z['variety'].value_counts()"
   ]
  },
  {
   "cell_type": "markdown",
   "metadata": {},
   "source": [
    "### Pivotes\n",
    "\n",
    "Los pivotes consisten en obtener varias columnas como index y operar a partir de las que permanecen dinámicas para apilarlas."
   ]
  },
  {
   "cell_type": "code",
   "execution_count": 18,
   "metadata": {},
   "outputs": [
    {
     "data": {
      "text/plain": [
       "   sepal.length  sepal.width  petal.length  petal.width variety  key\n",
       "0           5.1          3.5           1.4          0.2  Setosa    0\n",
       "1           4.9          3.0           1.4          0.2  Setosa    1\n",
       "2           4.7          3.2           1.3          0.2  Setosa    2\n",
       "3           4.6          3.1           1.5          0.2  Setosa    3\n",
       "4           5.0          3.6           1.4          0.2  Setosa    4"
      ]
     },
     "execution_count": 18,
     "metadata": {},
     "output_type": "execute_result"
    }
   ],
   "source": [
    "## Agrega una clave para identificar cada caso, es decir, cada registro\n",
    "x['key'] = list(range(150))\n",
    "x.head()"
   ]
  },
  {
   "cell_type": "code",
   "execution_count": 19,
   "metadata": {},
   "outputs": [],
   "source": [
    "z = pandas.melt(x,                            # DataFrame\n",
    "                id_vars = ['key', 'variety'], # columnas que no se apilan\n",
    "                var_name = 'Variables',       # nombre de la columna que contiene las columnas apiladas \n",
    "                value_name = 'Valores')       # nombre de la columna que contiene los valores"
   ]
  },
  {
   "cell_type": "code",
   "execution_count": 20,
   "metadata": {},
   "outputs": [
    {
     "data": {
      "text/plain": [
       "   key variety     Variables  Valores\n",
       "0    0  Setosa  sepal.length      5.1\n",
       "1    1  Setosa  sepal.length      4.9\n",
       "2    2  Setosa  sepal.length      4.7\n",
       "3    3  Setosa  sepal.length      4.6\n",
       "4    4  Setosa  sepal.length      5.0"
      ]
     },
     "execution_count": 20,
     "metadata": {},
     "output_type": "execute_result"
    }
   ],
   "source": [
    "z.head()"
   ]
  },
  {
   "cell_type": "code",
   "execution_count": 21,
   "metadata": {},
   "outputs": [],
   "source": [
    "del x['key']"
   ]
  },
  {
   "cell_type": "markdown",
   "metadata": {},
   "source": [
    "## Transformaciones\n",
    "\n",
    "Preparación de datos."
   ]
  },
  {
   "cell_type": "code",
   "execution_count": 22,
   "metadata": {},
   "outputs": [],
   "source": [
    "## importa la librería\n",
    "import pandas\n",
    "import numpy as np\n",
    "\n",
    "pandas.set_option('display.notebook_repr_html', False)"
   ]
  },
  {
   "cell_type": "code",
   "execution_count": 23,
   "metadata": {},
   "outputs": [],
   "source": [
    "## lee el archivo del disco.\n",
    "x = pandas.read_csv('files/iris.csv',\n",
    "                     sep = ',',\n",
    "                     thousands = None,\n",
    "                     decimal = '.')"
   ]
  },
  {
   "cell_type": "markdown",
   "metadata": {},
   "source": [
    "### Stack & unstack\n",
    "\n",
    "La función stack permite reunir el dataframe con varias columnas de index mientras unstack expande desagrupa los index y agrega mayor número de columnas que de pivotes."
   ]
  },
  {
   "cell_type": "code",
   "execution_count": 24,
   "metadata": {},
   "outputs": [
    {
     "data": {
      "text/plain": [
       "0  sepal.length       5.1\n",
       "   sepal.width        3.5\n",
       "   petal.length       1.4\n",
       "   petal.width        0.2\n",
       "   variety         Setosa\n",
       "1  sepal.length       4.9\n",
       "   sepal.width          3\n",
       "   petal.length       1.4\n",
       "   petal.width        0.2\n",
       "   variety         Setosa\n",
       "2  sepal.length       4.7\n",
       "   sepal.width        3.2\n",
       "   petal.length       1.3\n",
       "   petal.width        0.2\n",
       "   variety         Setosa\n",
       "3  sepal.length       4.6\n",
       "   sepal.width        3.1\n",
       "   petal.length       1.5\n",
       "   petal.width        0.2\n",
       "   variety         Setosa\n",
       "dtype: object"
      ]
     },
     "execution_count": 24,
     "metadata": {},
     "output_type": "execute_result"
    }
   ],
   "source": [
    "x.stack().head(20)"
   ]
  },
  {
   "cell_type": "code",
   "execution_count": 25,
   "metadata": {},
   "outputs": [
    {
     "data": {
      "text/plain": [
       "  sepal.length sepal.width petal.length petal.width variety\n",
       "0          5.1         3.5          1.4         0.2  Setosa\n",
       "1          4.9           3          1.4         0.2  Setosa\n",
       "2          4.7         3.2          1.3         0.2  Setosa\n",
       "3          4.6         3.1          1.5         0.2  Setosa"
      ]
     },
     "execution_count": 25,
     "metadata": {},
     "output_type": "execute_result"
    }
   ],
   "source": [
    "(x.stack()).unstack().head(4)"
   ]
  },
  {
   "cell_type": "markdown",
   "metadata": {},
   "source": [
    "### Tablas dinámicas\n",
    "\n",
    "Así como se crean algunas columnas pivote, es posible asimilar las agrupaciones a las tablas dinámicas de Excel a través de una tabla pivote."
   ]
  },
  {
   "cell_type": "code",
   "execution_count": 26,
   "metadata": {},
   "outputs": [
    {
     "name": "stdout",
     "output_type": "stream",
     "text": [
      "  key1 key2  values1  values2\n",
      "0    a    A        1        7\n",
      "1    a    B        2        8\n",
      "2    b    A        3        9\n",
      "3    b    B        4       10\n",
      "4    c    A        5       11\n",
      "5    c    B        6       12\n"
     ]
    }
   ],
   "source": [
    "m = pandas.DataFrame( {'key1'    : ['a', 'a', 'b', 'b', 'c', 'c'],\n",
    "                       'key2'    : ['A', 'B', 'A', 'B', 'A', 'B'],\n",
    "                       'values1' : [ 1,   2,   3,   4,   5,   6 ],\n",
    "                       'values2' : [ 7,   8,   9,  10,  11,  12]})\n",
    "print(m)"
   ]
  },
  {
   "cell_type": "code",
   "execution_count": 27,
   "metadata": {},
   "outputs": [
    {
     "name": "stdout",
     "output_type": "stream",
     "text": [
      "           values1  values2\n",
      "key1 key2                  \n",
      "a    A           1        7\n",
      "     B           2        8\n",
      "b    A           3        9\n",
      "     B           4       10\n",
      "c    A           5       11\n",
      "     B           6       12\n"
     ]
    }
   ],
   "source": [
    "## Se crea el pivote\n",
    "z = pandas.pivot_table(m, \n",
    "                       index = ['key1', 'key2'],\n",
    "                       values = ['values1', 'values2'])\n",
    "\n",
    "print(z)"
   ]
  },
  {
   "cell_type": "markdown",
   "metadata": {},
   "source": [
    "### Unión\n",
    "\n",
    "La unión de dos dataframe de Pandas es posible realizarlo a través de la función merge, la cual funciona cuando una de las dos tablas tiene un número de filas múltiplo del otro."
   ]
  },
  {
   "cell_type": "code",
   "execution_count": 28,
   "metadata": {},
   "outputs": [
    {
     "data": {
      "text/plain": [
       "   x  y   w\n",
       "0  1  6  10\n",
       "1  1  6  60\n",
       "2  2  7  20\n",
       "3  2  7  70\n",
       "4  3  8  30\n",
       "5  3  8  80\n",
       "6  4  9  40\n",
       "7  4  9  90"
      ]
     },
     "execution_count": 28,
     "metadata": {},
     "output_type": "execute_result"
    }
   ],
   "source": [
    "d1 = pandas.DataFrame({ 'x' : list(range(1,5)),\n",
    "                        'y' : list(range(6,10))})\n",
    "\n",
    "d2 = pandas.DataFrame({ 'x' : [ 1,  2,  3,  4,  5,  1,  2,  3,  4,   5],\n",
    "                        'w' : [10, 20, 30, 40, 50, 60, 70, 80, 90, 100]})\n",
    "\n",
    "pandas.merge(d1, d2)"
   ]
  },
  {
   "cell_type": "markdown",
   "metadata": {},
   "source": [
    "### Variables dummy\n"
   ]
  },
  {
   "cell_type": "code",
   "execution_count": 29,
   "metadata": {},
   "outputs": [
    {
     "data": {
      "text/plain": [
       "     Setosa  Versicolor  Virginica\n",
       "0         1           0          0\n",
       "1         1           0          0\n",
       "2         1           0          0\n",
       "3         1           0          0\n",
       "4         1           0          0\n",
       "..      ...         ...        ...\n",
       "145       0           0          1\n",
       "146       0           0          1\n",
       "147       0           0          1\n",
       "148       0           0          1\n",
       "149       0           0          1\n",
       "\n",
       "[150 rows x 3 columns]"
      ]
     },
     "execution_count": 29,
     "metadata": {},
     "output_type": "execute_result"
    }
   ],
   "source": [
    "## Se genera variables dummies para variables categóricas.\n",
    "pandas.get_dummies(x.variety)"
   ]
  },
  {
   "cell_type": "markdown",
   "metadata": {},
   "source": [
    "## Inserción, borrado, casos duplicados y datos faltantes\n",
    "\n",
    "Preparación de datos"
   ]
  },
  {
   "cell_type": "code",
   "execution_count": 30,
   "metadata": {},
   "outputs": [],
   "source": [
    "## importa la librería\n",
    "import pandas\n",
    "import numpy as np\n",
    "\n",
    "pandas.set_option('display.notebook_repr_html', False)"
   ]
  },
  {
   "cell_type": "code",
   "execution_count": 31,
   "metadata": {},
   "outputs": [],
   "source": [
    "## lee el archivo del disco.\n",
    "x = pandas.read_csv('files/iris.csv',\n",
    "                     sep = ',',\n",
    "                     thousands = None,\n",
    "                     decimal = '.')"
   ]
  },
  {
   "cell_type": "markdown",
   "metadata": {},
   "source": [
    "### Inserción de columnas\n",
    "\n",
    "Para modificar o generar valores nuevos a una columna, se debe indexar."
   ]
  },
  {
   "cell_type": "code",
   "execution_count": 32,
   "metadata": {},
   "outputs": [
    {
     "data": {
      "text/plain": [
       "   sepal.length  sepal.width  petal.length  petal.width variety  n\n",
       "0           5.1          3.5           1.4          0.2  Setosa  1\n",
       "1           4.9          3.0           1.4          0.2  Setosa  1\n",
       "2           4.7          3.2           1.3          0.2  Setosa  1\n",
       "3           4.6          3.1           1.5          0.2  Setosa  1\n",
       "4           5.0          3.6           1.4          0.2  Setosa  1"
      ]
     },
     "execution_count": 32,
     "metadata": {},
     "output_type": "execute_result"
    }
   ],
   "source": [
    "## creación de una nueva columna\n",
    "x['n'] = 1 \n",
    "x.head()"
   ]
  },
  {
   "cell_type": "code",
   "execution_count": 33,
   "metadata": {},
   "outputs": [
    {
     "data": {
      "text/plain": [
       "   sepal.length  sepal.width  petal.length  petal.width variety   n\n",
       "0           5.1          3.5           1.4          0.2  Setosa  10\n",
       "1           4.9          3.0           1.4          0.2  Setosa   1\n",
       "2           4.7          3.2           1.3          0.2  Setosa   1\n",
       "3           4.6          3.1           1.5          0.2  Setosa   1\n",
       "4           5.0          3.6           1.4          0.2  Setosa   1"
      ]
     },
     "execution_count": 33,
     "metadata": {},
     "output_type": "execute_result"
    }
   ],
   "source": [
    "## Modificación de un valor particular\n",
    "x.iat[0,5] = 10\n",
    "x.head()"
   ]
  },
  {
   "cell_type": "code",
   "execution_count": 34,
   "metadata": {},
   "outputs": [
    {
     "data": {
      "text/plain": [
       "   sepal.length  sepal.width  petal.length  petal.width variety  n\n",
       "0           5.1          3.5           1.4          0.2  Setosa  0\n",
       "1           4.9          3.0           1.4          0.2  Setosa  1\n",
       "2           4.7          3.2           1.3          0.2  Setosa  2\n",
       "3           4.6          3.1           1.5          0.2  Setosa  3\n",
       "4           5.0          3.6           1.4          0.2  Setosa  4"
      ]
     },
     "execution_count": 34,
     "metadata": {},
     "output_type": "execute_result"
    }
   ],
   "source": [
    "## Modificación de una columna\n",
    "x['n'] = list(range(150))\n",
    "x.head()"
   ]
  },
  {
   "cell_type": "code",
   "execution_count": 35,
   "metadata": {},
   "outputs": [
    {
     "data": {
      "text/plain": [
       "   sepal.length  sepal.width  petal.length  petal.width variety\n",
       "0           5.1          3.5           1.4          0.2  Setosa\n",
       "1           4.9          3.0           1.4          0.2  Setosa\n",
       "2           4.7          3.2           1.3          0.2  Setosa\n",
       "3           4.6          3.1           1.5          0.2  Setosa\n",
       "4           5.0          3.6           1.4          0.2  Setosa"
      ]
     },
     "execution_count": 35,
     "metadata": {},
     "output_type": "execute_result"
    }
   ],
   "source": [
    "## Borrado de la columna\n",
    "del x['n']\n",
    "x.head()"
   ]
  },
  {
   "cell_type": "code",
   "execution_count": 36,
   "metadata": {},
   "outputs": [
    {
     "data": {
      "text/plain": [
       "   sepal.length  sepal.width  logical_value  petal.length  petal.width variety\n",
       "0           5.1          3.5           True           1.4          0.2  Setosa\n",
       "1           4.9          3.0           True           1.4          0.2  Setosa\n",
       "2           4.7          3.2           True           1.3          0.2  Setosa\n",
       "3           4.6          3.1           True           1.5          0.2  Setosa\n",
       "4           5.0          3.6           True           1.4          0.2  Setosa"
      ]
     },
     "execution_count": 36,
     "metadata": {},
     "output_type": "execute_result"
    }
   ],
   "source": [
    "## los DataFrames son diccionarios y pueden manipularse como tal\n",
    "## se indica en que posicion se inserta la columna con valores \n",
    "## lógicos\n",
    "x.insert(2, 'logical_value', x['sepal.length'] > 4)\n",
    "x.head()"
   ]
  },
  {
   "cell_type": "code",
   "execution_count": 37,
   "metadata": {},
   "outputs": [
    {
     "data": {
      "text/plain": [
       "   sepal.length  sepal.width  petal.length  petal.width variety\n",
       "0           5.1          3.5           1.4          0.2  Setosa\n",
       "1           4.9          3.0           1.4          0.2  Setosa\n",
       "2           4.7          3.2           1.3          0.2  Setosa\n",
       "3           4.6          3.1           1.5          0.2  Setosa\n",
       "4           5.0          3.6           1.4          0.2  Setosa"
      ]
     },
     "execution_count": 37,
     "metadata": {},
     "output_type": "execute_result"
    }
   ],
   "source": [
    "del x['logical_value']\n",
    "x.head()"
   ]
  },
  {
   "cell_type": "code",
   "execution_count": 38,
   "metadata": {},
   "outputs": [
    {
     "name": "stdout",
     "output_type": "stream",
     "text": [
      "   colA  colB\n",
      "0     1     3\n",
      "1     2     4\n",
      "\n",
      "   colB  colC\n",
      "0     5     7\n",
      "1     6     8\n",
      "\n",
      "   colA  colB  colC\n",
      "0   NaN     8   NaN\n",
      "1   NaN    10   NaN\n"
     ]
    }
   ],
   "source": [
    "## Alineación\n",
    "## Suma las columnas colB\n",
    "a = pandas.DataFrame({'colA': [1, 2],\n",
    "                      'colB': [3, 4]})\n",
    "\n",
    "b = pandas.DataFrame({'colB': [5, 6],\n",
    "                      'colC': [7, 8]})\n",
    "\n",
    "print(a)\n",
    "print('')\n",
    "print(b)\n",
    "print('')\n",
    "print(a + b)"
   ]
  },
  {
   "cell_type": "code",
   "execution_count": 39,
   "metadata": {},
   "outputs": [
    {
     "data": {
      "text/plain": [
       "       colA      colB\n",
       "0  1.000000  1.732051\n",
       "1  1.414214  2.000000"
      ]
     },
     "execution_count": 39,
     "metadata": {},
     "output_type": "execute_result"
    }
   ],
   "source": [
    "## se pueden aplicar todas las operaciones matemáticas \n",
    "## existentes en numpy\n",
    "np.sqrt(a)"
   ]
  },
  {
   "cell_type": "markdown",
   "metadata": {},
   "source": [
    "### Inserción de filas"
   ]
  },
  {
   "cell_type": "code",
   "execution_count": 40,
   "metadata": {},
   "outputs": [
    {
     "data": {
      "text/plain": [
       "     sepal.length  sepal.width  petal.length  petal.width    variety\n",
       "146           6.3          2.5           5.0          1.9  Virginica\n",
       "147           6.5          3.0           5.2          2.0  Virginica\n",
       "148           6.2          3.4           5.4          2.3  Virginica\n",
       "149           5.9          3.0           5.1          1.8  Virginica\n",
       "150           1.0          1.0           1.0          1.0     Setosa"
      ]
     },
     "execution_count": 40,
     "metadata": {},
     "output_type": "execute_result"
    }
   ],
   "source": [
    "## Adición de una fila (al final)\n",
    "u = pandas.DataFrame({'sepal.length' : [1], \n",
    "                      'sepal.width' : [1], \n",
    "                      'petal.length' : [1], \n",
    "                      'petal.width' : [1], \n",
    "                      'variety' : ['Setosa']})\n",
    "\n",
    "x.append(u, ignore_index = True).tail()"
   ]
  },
  {
   "cell_type": "markdown",
   "metadata": {},
   "source": [
    "### Casos duplicados y datos faltantes"
   ]
  },
  {
   "cell_type": "code",
   "execution_count": 41,
   "metadata": {},
   "outputs": [
    {
     "data": {
      "text/plain": [
       "array([ 51, 134,  27, 108, 120, 142,  71,  77,  78, 101,  37,  82, 106,\n",
       "        95,  13,  93,  19, 102,  17,  87])"
      ]
     },
     "execution_count": 41,
     "metadata": {},
     "output_type": "execute_result"
    }
   ],
   "source": [
    "## Se crea un vector aleatorio de indices\n",
    "u = np.random.choice(range(150), \n",
    "                     size=20, \n",
    "                     replace=False)\n",
    "u"
   ]
  },
  {
   "cell_type": "code",
   "execution_count": 42,
   "metadata": {},
   "outputs": [
    {
     "data": {
      "text/plain": [
       "     sepal.length  sepal.width  petal.length  petal.width     variety\n",
       "51            6.4          3.2           4.5          1.5  Versicolor\n",
       "134           6.1          2.6           5.6          1.4   Virginica\n",
       "27            5.2          3.5           1.5          0.2      Setosa\n",
       "108           6.7          2.5           5.8          1.8   Virginica\n",
       "120           6.9          3.2           5.7          2.3   Virginica"
      ]
     },
     "execution_count": 42,
     "metadata": {},
     "output_type": "execute_result"
    }
   ],
   "source": [
    "## Submuestra de data.frame original `x`\n",
    "y = x.loc[u].copy()\n",
    "y.head()"
   ]
  },
  {
   "cell_type": "code",
   "execution_count": 43,
   "metadata": {},
   "outputs": [
    {
     "data": {
      "text/plain": [
       "    sepal.length  sepal.width  petal.length  petal.width     variety\n",
       "0            6.4          3.2           4.5          1.5  Versicolor\n",
       "1            6.1          2.6           5.6          1.4   Virginica\n",
       "2            5.2          3.5           1.5          0.2      Setosa\n",
       "3            6.7          2.5           5.8          1.8   Virginica\n",
       "4            6.9          3.2           5.7          2.3   Virginica\n",
       "5            5.8          2.7           5.1          1.9   Virginica\n",
       "6            6.1          2.8           4.0          1.3  Versicolor\n",
       "7            6.7          3.0           5.0          1.7  Versicolor\n",
       "8            6.0          2.9           4.5          1.5  Versicolor\n",
       "9            5.8          2.7           5.1          1.9   Virginica\n",
       "10           4.9          3.6           1.4          0.1      Setosa\n",
       "11           5.8          2.7           3.9          1.2  Versicolor\n",
       "12           4.9          2.5           4.5          1.7   Virginica\n",
       "13           5.7          3.0           4.2          1.2  Versicolor\n",
       "14           4.3          3.0           1.1          0.1      Setosa\n",
       "15           5.0          2.3           3.3          1.0  Versicolor\n",
       "16           5.1          3.8           1.5          0.3      Setosa\n",
       "17           7.1          3.0           5.9          2.1   Virginica\n",
       "18           5.1          3.5           1.4          0.3      Setosa\n",
       "19           6.3          2.3           4.4          1.3  Versicolor"
      ]
     },
     "execution_count": 43,
     "metadata": {},
     "output_type": "execute_result"
    }
   ],
   "source": [
    "## Se cambian los nombres de las filas \n",
    "y.index = list(range(20))\n",
    "y"
   ]
  },
  {
   "cell_type": "code",
   "execution_count": 44,
   "metadata": {},
   "outputs": [
    {
     "data": {
      "text/plain": [
       "array([ 2,  4, 19,  9,  3, 13, 15,  5, 10, 14])"
      ]
     },
     "execution_count": 44,
     "metadata": {},
     "output_type": "execute_result"
    }
   ],
   "source": [
    "## De la submuestra `y` se hacen varios registros incompletos\n",
    "## cambiando varios valores en la columna `Sepal.Length` por NA\n",
    "u = np.random.choice(range(20), size=10, replace=False)\n",
    "u"
   ]
  },
  {
   "cell_type": "code",
   "execution_count": 45,
   "metadata": {},
   "outputs": [
    {
     "data": {
      "text/plain": [
       "    sepal.length  sepal.width  petal.length  petal.width     variety\n",
       "2            5.2          3.5           1.5          0.2      Setosa\n",
       "4            6.9          3.2           5.7          2.3   Virginica\n",
       "19           6.3          2.3           4.4          1.3  Versicolor\n",
       "9            5.8          2.7           5.1          1.9   Virginica\n",
       "3            6.7          2.5           5.8          1.8   Virginica\n",
       "13           5.7          3.0           4.2          1.2  Versicolor\n",
       "15           5.0          2.3           3.3          1.0  Versicolor\n",
       "5            5.8          2.7           5.1          1.9   Virginica\n",
       "10           4.9          3.6           1.4          0.1      Setosa\n",
       "14           4.3          3.0           1.1          0.1      Setosa"
      ]
     },
     "execution_count": 45,
     "metadata": {},
     "output_type": "execute_result"
    }
   ],
   "source": [
    "y.iloc[u]"
   ]
  },
  {
   "cell_type": "code",
   "execution_count": 46,
   "metadata": {},
   "outputs": [
    {
     "data": {
      "text/plain": [
       "    sepal.length  sepal.width  petal.length  petal.width     variety\n",
       "0            6.4          3.2           4.5          1.5  Versicolor\n",
       "1            6.1          2.6           5.6          1.4   Virginica\n",
       "2            NaN          3.5           1.5          0.2      Setosa\n",
       "3            NaN          2.5           5.8          1.8   Virginica\n",
       "4            NaN          3.2           5.7          2.3   Virginica\n",
       "5            NaN          2.7           5.1          1.9   Virginica\n",
       "6            6.1          2.8           4.0          1.3  Versicolor\n",
       "7            6.7          3.0           5.0          1.7  Versicolor\n",
       "8            6.0          2.9           4.5          1.5  Versicolor\n",
       "9            NaN          2.7           5.1          1.9   Virginica\n",
       "10           NaN          3.6           1.4          0.1      Setosa\n",
       "11           5.8          2.7           3.9          1.2  Versicolor\n",
       "12           4.9          2.5           4.5          1.7   Virginica\n",
       "13           NaN          3.0           4.2          1.2  Versicolor\n",
       "14           NaN          3.0           1.1          0.1      Setosa\n",
       "15           NaN          2.3           3.3          1.0  Versicolor\n",
       "16           5.1          3.8           1.5          0.3      Setosa\n",
       "17           7.1          3.0           5.9          2.1   Virginica\n",
       "18           5.1          3.5           1.4          0.3      Setosa\n",
       "19           NaN          2.3           4.4          1.3  Versicolor"
      ]
     },
     "execution_count": 46,
     "metadata": {},
     "output_type": "execute_result"
    }
   ],
   "source": [
    "## Casos con datos faltantes \n",
    "y.loc[u, 'sepal.length'] = np.nan\n",
    "y"
   ]
  },
  {
   "cell_type": "code",
   "execution_count": 47,
   "metadata": {},
   "outputs": [
    {
     "data": {
      "text/plain": [
       "     sepal.length  sepal.width  petal.length  petal.width     variety\n",
       "145           6.7          3.0           5.2          2.3   Virginica\n",
       "146           6.3          2.5           5.0          1.9   Virginica\n",
       "147           6.5          3.0           5.2          2.0   Virginica\n",
       "148           6.2          3.4           5.4          2.3   Virginica\n",
       "149           5.9          3.0           5.1          1.8   Virginica\n",
       "150           6.4          3.2           4.5          1.5  Versicolor\n",
       "151           6.1          2.6           5.6          1.4   Virginica\n",
       "152           NaN          3.5           1.5          0.2      Setosa\n",
       "153           NaN          2.5           5.8          1.8   Virginica\n",
       "154           NaN          3.2           5.7          2.3   Virginica\n",
       "155           NaN          2.7           5.1          1.9   Virginica\n",
       "156           6.1          2.8           4.0          1.3  Versicolor\n",
       "157           6.7          3.0           5.0          1.7  Versicolor\n",
       "158           6.0          2.9           4.5          1.5  Versicolor\n",
       "159           NaN          2.7           5.1          1.9   Virginica\n",
       "160           NaN          3.6           1.4          0.1      Setosa\n",
       "161           5.8          2.7           3.9          1.2  Versicolor\n",
       "162           4.9          2.5           4.5          1.7   Virginica\n",
       "163           NaN          3.0           4.2          1.2  Versicolor\n",
       "164           NaN          3.0           1.1          0.1      Setosa\n",
       "165           NaN          2.3           3.3          1.0  Versicolor\n",
       "166           5.1          3.8           1.5          0.3      Setosa\n",
       "167           7.1          3.0           5.9          2.1   Virginica\n",
       "168           5.1          3.5           1.4          0.3      Setosa\n",
       "169           NaN          2.3           4.4          1.3  Versicolor"
      ]
     },
     "execution_count": 47,
     "metadata": {},
     "output_type": "execute_result"
    }
   ],
   "source": [
    "## apilado de dataframes \n",
    "## los casos 151 a 170 contienen casos duplicados o\n",
    "## casos con datos faltantes\n",
    "w = pandas.concat([x, y])\n",
    "w.index = list(range(170))\n",
    "w.tail(25)"
   ]
  },
  {
   "cell_type": "code",
   "execution_count": 48,
   "metadata": {},
   "outputs": [
    {
     "data": {
      "text/plain": [
       "     sepal.length  sepal.width  petal.length  petal.width     variety\n",
       "142           5.8          2.7           5.1          1.9   Virginica\n",
       "150           6.4          3.2           4.5          1.5  Versicolor\n",
       "151           6.1          2.6           5.6          1.4   Virginica\n",
       "156           6.1          2.8           4.0          1.3  Versicolor\n",
       "157           6.7          3.0           5.0          1.7  Versicolor\n",
       "158           6.0          2.9           4.5          1.5  Versicolor\n",
       "159           NaN          2.7           5.1          1.9   Virginica\n",
       "161           5.8          2.7           3.9          1.2  Versicolor\n",
       "162           4.9          2.5           4.5          1.7   Virginica\n",
       "166           5.1          3.8           1.5          0.3      Setosa\n",
       "167           7.1          3.0           5.9          2.1   Virginica\n",
       "168           5.1          3.5           1.4          0.3      Setosa"
      ]
     },
     "execution_count": 48,
     "metadata": {},
     "output_type": "execute_result"
    }
   ],
   "source": [
    "## casos duplicados\n",
    "## note que el caso 142 aparece duplicado\n",
    "w[w.duplicated()]"
   ]
  },
  {
   "cell_type": "code",
   "execution_count": 49,
   "metadata": {},
   "outputs": [
    {
     "data": {
      "text/plain": [
       "     sepal.length  sepal.width  petal.length  petal.width     variety\n",
       "138           6.0          3.0           4.8          1.8   Virginica\n",
       "139           6.9          3.1           5.4          2.1   Virginica\n",
       "140           6.7          3.1           5.6          2.4   Virginica\n",
       "141           6.9          3.1           5.1          2.3   Virginica\n",
       "143           6.8          3.2           5.9          2.3   Virginica\n",
       "144           6.7          3.3           5.7          2.5   Virginica\n",
       "145           6.7          3.0           5.2          2.3   Virginica\n",
       "146           6.3          2.5           5.0          1.9   Virginica\n",
       "147           6.5          3.0           5.2          2.0   Virginica\n",
       "148           6.2          3.4           5.4          2.3   Virginica\n",
       "149           5.9          3.0           5.1          1.8   Virginica\n",
       "152           NaN          3.5           1.5          0.2      Setosa\n",
       "153           NaN          2.5           5.8          1.8   Virginica\n",
       "154           NaN          3.2           5.7          2.3   Virginica\n",
       "155           NaN          2.7           5.1          1.9   Virginica\n",
       "160           NaN          3.6           1.4          0.1      Setosa\n",
       "163           NaN          3.0           4.2          1.2  Versicolor\n",
       "164           NaN          3.0           1.1          0.1      Setosa\n",
       "165           NaN          2.3           3.3          1.0  Versicolor\n",
       "169           NaN          2.3           4.4          1.3  Versicolor"
      ]
     },
     "execution_count": 49,
     "metadata": {},
     "output_type": "execute_result"
    }
   ],
   "source": [
    "## Se eliminan los datos duplicados\n",
    "## note que se eliminaron varios casos entre el 151 y el 170\n",
    "w.drop_duplicates().tail(20)"
   ]
  },
  {
   "cell_type": "code",
   "execution_count": 50,
   "metadata": {},
   "outputs": [
    {
     "data": {
      "text/plain": [
       "160     True\n",
       "161    False\n",
       "162    False\n",
       "163     True\n",
       "164     True\n",
       "165     True\n",
       "166    False\n",
       "167    False\n",
       "168    False\n",
       "169     True\n",
       "Name: sepal.length, dtype: bool"
      ]
     },
     "execution_count": 50,
     "metadata": {},
     "output_type": "execute_result"
    }
   ],
   "source": [
    "## Se detectan los datos nulos \n",
    "w['sepal.length'].isnull().tail(10)"
   ]
  },
  {
   "cell_type": "code",
   "execution_count": 51,
   "metadata": {},
   "outputs": [
    {
     "data": {
      "text/plain": [
       "     sepal.length  sepal.width  petal.length  petal.width     variety\n",
       "152           NaN          3.5           1.5          0.2      Setosa\n",
       "153           NaN          2.5           5.8          1.8   Virginica\n",
       "154           NaN          3.2           5.7          2.3   Virginica\n",
       "155           NaN          2.7           5.1          1.9   Virginica\n",
       "159           NaN          2.7           5.1          1.9   Virginica\n",
       "160           NaN          3.6           1.4          0.1      Setosa\n",
       "163           NaN          3.0           4.2          1.2  Versicolor\n",
       "164           NaN          3.0           1.1          0.1      Setosa\n",
       "165           NaN          2.3           3.3          1.0  Versicolor\n",
       "169           NaN          2.3           4.4          1.3  Versicolor"
      ]
     },
     "execution_count": 51,
     "metadata": {},
     "output_type": "execute_result"
    }
   ],
   "source": [
    "## se deben utilizar operadoreslógicos para considerar más columnas\n",
    "w[w['sepal.length'].isnull()]"
   ]
  },
  {
   "cell_type": "code",
   "execution_count": 52,
   "metadata": {},
   "outputs": [
    {
     "data": {
      "text/plain": [
       "     sepal.length  sepal.width  petal.length  petal.width     variety\n",
       "140           6.7          3.1           5.6          2.4   Virginica\n",
       "141           6.9          3.1           5.1          2.3   Virginica\n",
       "142           5.8          2.7           5.1          1.9   Virginica\n",
       "143           6.8          3.2           5.9          2.3   Virginica\n",
       "144           6.7          3.3           5.7          2.5   Virginica\n",
       "145           6.7          3.0           5.2          2.3   Virginica\n",
       "146           6.3          2.5           5.0          1.9   Virginica\n",
       "147           6.5          3.0           5.2          2.0   Virginica\n",
       "148           6.2          3.4           5.4          2.3   Virginica\n",
       "149           5.9          3.0           5.1          1.8   Virginica\n",
       "150           6.4          3.2           4.5          1.5  Versicolor\n",
       "151           6.1          2.6           5.6          1.4   Virginica\n",
       "156           6.1          2.8           4.0          1.3  Versicolor\n",
       "157           6.7          3.0           5.0          1.7  Versicolor\n",
       "158           6.0          2.9           4.5          1.5  Versicolor\n",
       "161           5.8          2.7           3.9          1.2  Versicolor\n",
       "162           4.9          2.5           4.5          1.7   Virginica\n",
       "166           5.1          3.8           1.5          0.3      Setosa\n",
       "167           7.1          3.0           5.9          2.1   Virginica\n",
       "168           5.1          3.5           1.4          0.3      Setosa"
      ]
     },
     "execution_count": 52,
     "metadata": {},
     "output_type": "execute_result"
    }
   ],
   "source": [
    "## Se eleminan los casos con datos nulos. \n",
    "w.dropna().tail(20)"
   ]
  },
  {
   "cell_type": "markdown",
   "metadata": {},
   "source": [
    "## Estadísticos descriptivos"
   ]
  },
  {
   "cell_type": "code",
   "execution_count": 53,
   "metadata": {},
   "outputs": [
    {
     "name": "stdout",
     "output_type": "stream",
     "text": [
      "       sepal.length  sepal.width  petal.length  petal.width\n",
      "count    150.000000   150.000000    150.000000   150.000000\n",
      "mean       5.843333     3.057333      3.758000     1.199333\n",
      "std        0.828066     0.435866      1.765298     0.762238\n",
      "min        4.300000     2.000000      1.000000     0.100000\n",
      "25%        5.100000     2.800000      1.600000     0.300000\n",
      "50%        5.800000     3.000000      4.350000     1.300000\n",
      "75%        6.400000     3.300000      5.100000     1.800000\n",
      "max        7.900000     4.400000      6.900000     2.500000\n"
     ]
    }
   ],
   "source": [
    "## resumen de estadísticos descriptivos\n",
    "print(x.describe())"
   ]
  },
  {
   "cell_type": "code",
   "execution_count": 54,
   "metadata": {},
   "outputs": [
    {
     "data": {
      "text/plain": [
       "sepal.length    5.843333\n",
       "sepal.width     3.057333\n",
       "petal.length    3.758000\n",
       "petal.width     1.199333\n",
       "dtype: float64"
      ]
     },
     "execution_count": 54,
     "metadata": {},
     "output_type": "execute_result"
    }
   ],
   "source": [
    "## Se halla la media\n",
    "x.mean()"
   ]
  },
  {
   "cell_type": "code",
   "execution_count": 55,
   "metadata": {},
   "outputs": [
    {
     "data": {
      "text/plain": [
       "0    2.550\n",
       "1    2.375\n",
       "2    2.350\n",
       "3    2.350\n",
       "4    2.550\n",
       "dtype: float64"
      ]
     },
     "execution_count": 55,
     "metadata": {},
     "output_type": "execute_result"
    }
   ],
   "source": [
    "x.mean(1).head()"
   ]
  },
  {
   "cell_type": "markdown",
   "metadata": {},
   "source": [
    "## Paneles de DataFrames"
   ]
  },
  {
   "cell_type": "code",
   "execution_count": 56,
   "metadata": {},
   "outputs": [],
   "source": [
    "## se crean los DataFrames\n",
    "df1 = pandas.DataFrame({'colA': [1, 2],\n",
    "                        'colB': [3, 4]})\n",
    "\n",
    "df2 = pandas.DataFrame({'colB': [5, 6],\n",
    "                      '  colC': [7, 8]})\n",
    "\n",
    "df3 = pandas.DataFrame({'colC': [9, 0],\n",
    "                      '  colD': [1, 2]})"
   ]
  },
  {
   "cell_type": "code",
   "execution_count": 57,
   "metadata": {},
   "outputs": [
    {
     "name": "stdout",
     "output_type": "stream",
     "text": [
      "{'df1':    colA  colB\n",
      "0     1     3\n",
      "1     2     4, 'df2':    colB    colC\n",
      "0     5       7\n",
      "1     6       8, 'df3':    colC    colD\n",
      "0     9       1\n",
      "1     0       2}\n"
     ]
    }
   ],
   "source": [
    "## creación del panel como un diccionario\n",
    "pdPanel = { 'df1': df1,\n",
    "            'df2': df2,\n",
    "            'df3': df3}\n",
    "print(pdPanel)"
   ]
  }
 ],
 "metadata": {
  "kernelspec": {
   "display_name": "Python 3",
   "language": "python",
   "name": "python3"
  },
  "language_info": {
   "codemirror_mode": {
    "name": "ipython",
    "version": 3
   },
   "file_extension": ".py",
   "mimetype": "text/x-python",
   "name": "python",
   "nbconvert_exporter": "python",
   "pygments_lexer": "ipython3",
   "version": "3.7.3"
  }
 },
 "nbformat": 4,
 "nbformat_minor": 2
}
