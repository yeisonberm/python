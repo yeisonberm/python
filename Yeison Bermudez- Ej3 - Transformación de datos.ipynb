{
 "cells": [
  {
   "cell_type": "markdown",
   "metadata": {},
   "source": [
    "# **Yeison Bermudez**\n",
    "\n",
    "**1751400**\n",
    "\n",
    "**Cuaderno #3 - Transformación de datos**\n",
    "\n",
    "**22 de Noviembre del 2019**"
   ]
  },
  {
   "cell_type": "code",
   "execution_count": 11,
   "metadata": {},
   "outputs": [
    {
     "data": {
      "text/plain": [
       "['T,srcuser,srchost,dstuser,dsthost,size\\n',\n",
       " '2006-05-11 10:15:08,barb,saturn,tricia,mars,58274\\n',\n",
       " '2006-05-12 12:48:13,tricia,mars,gene,venus,194925\\n',\n",
       " '2006-05-12 15:02:49,phil,mars,phill,saturn,1048\\n',\n",
       " '2006-05-13 13:59:18,barb,saturn,tricia,venus,271\\n',\n",
       " '2006-05-14 9:31:37,gene,venus,barb,mars,2291\\n',\n",
       " '2006-05-14 11:52:17,phil,mars,tricia,saturn,5781\\n',\n",
       " '2006-05-14 14:42:21,barb,venus,barb,venus,98151\\n',\n",
       " '2006-05-14 17:03:01,tricia,saturn,phil,venus,2394482\\n',\n",
       " '2006-05-15 7:17:48,gene,mars,gene,saturn,3824\\n',\n",
       " '2006-05-15 8:50:57,phil,venus,phil,venus,978\\n',\n",
       " '2006-05-15 10:25:52,gene,mars,tricia,saturn,998532\\n',\n",
       " '2006-05-15 17:35:31,gene,saturn,gene,mars,3856\\n',\n",
       " '2006-05-16 9:00:28,gene,venus,barb,mars,613\\n',\n",
       " '2006-05-16 23:04:19,phil,venus,barb,venus,10294\\n',\n",
       " '2006-05-17 12:49:23,phil,mars,tricia,saturn,873\\n',\n",
       " '2006-05-19 22:21:51,gene,saturn,gene,venus,23992']"
      ]
     },
     "execution_count": 11,
     "metadata": {},
     "output_type": "execute_result"
    }
   ],
   "source": [
    "## lectura del archivo como una lista de strings\n",
    "mail = open('Tabla.csv', 'r').readlines()\n",
    "mail"
   ]
  },
  {
   "cell_type": "code",
   "execution_count": 12,
   "metadata": {},
   "outputs": [
    {
     "data": {
      "text/plain": [
       "['T,srcuser,srchost,dstuser,dsthost,size',\n",
       " '2006-05-11 10:15:08,barb,saturn,tricia,mars,58274',\n",
       " '2006-05-12 12:48:13,tricia,mars,gene,venus,194925',\n",
       " '2006-05-12 15:02:49,phil,mars,phill,saturn,1048',\n",
       " '2006-05-13 13:59:18,barb,saturn,tricia,venus,271',\n",
       " '2006-05-14 9:31:37,gene,venus,barb,mars,2291',\n",
       " '2006-05-14 11:52:17,phil,mars,tricia,saturn,5781',\n",
       " '2006-05-14 14:42:21,barb,venus,barb,venus,98151',\n",
       " '2006-05-14 17:03:01,tricia,saturn,phil,venus,2394482',\n",
       " '2006-05-15 7:17:48,gene,mars,gene,saturn,3824',\n",
       " '2006-05-15 8:50:57,phil,venus,phil,venus,978',\n",
       " '2006-05-15 10:25:52,gene,mars,tricia,saturn,998532',\n",
       " '2006-05-15 17:35:31,gene,saturn,gene,mars,3856',\n",
       " '2006-05-16 9:00:28,gene,venus,barb,mars,613',\n",
       " '2006-05-16 23:04:19,phil,venus,barb,venus,10294',\n",
       " '2006-05-17 12:49:23,phil,mars,tricia,saturn,873',\n",
       " '2006-05-19 22:21:51,gene,saturn,gene,venus,2399']"
      ]
     },
     "execution_count": 12,
     "metadata": {},
     "output_type": "execute_result"
    }
   ],
   "source": [
    "## elimina los `\\n` al final de cada string\n",
    "mail = [row[0:-1] for row in mail]\n",
    "mail"
   ]
  },
  {
   "cell_type": "code",
   "execution_count": 13,
   "metadata": {},
   "outputs": [
    {
     "data": {
      "text/plain": [
       "[['T', 'srcuser', 'srchost', 'dstuser', 'dsthost', 'size'],\n",
       " ['2006-05-11 10:15:08', 'barb', 'saturn', 'tricia', 'mars', '58274'],\n",
       " ['2006-05-12 12:48:13', 'tricia', 'mars', 'gene', 'venus', '194925'],\n",
       " ['2006-05-12 15:02:49', 'phil', 'mars', 'phill', 'saturn', '1048'],\n",
       " ['2006-05-13 13:59:18', 'barb', 'saturn', 'tricia', 'venus', '271'],\n",
       " ['2006-05-14 9:31:37', 'gene', 'venus', 'barb', 'mars', '2291'],\n",
       " ['2006-05-14 11:52:17', 'phil', 'mars', 'tricia', 'saturn', '5781'],\n",
       " ['2006-05-14 14:42:21', 'barb', 'venus', 'barb', 'venus', '98151'],\n",
       " ['2006-05-14 17:03:01', 'tricia', 'saturn', 'phil', 'venus', '2394482'],\n",
       " ['2006-05-15 7:17:48', 'gene', 'mars', 'gene', 'saturn', '3824'],\n",
       " ['2006-05-15 8:50:57', 'phil', 'venus', 'phil', 'venus', '978'],\n",
       " ['2006-05-15 10:25:52', 'gene', 'mars', 'tricia', 'saturn', '998532'],\n",
       " ['2006-05-15 17:35:31', 'gene', 'saturn', 'gene', 'mars', '3856'],\n",
       " ['2006-05-16 9:00:28', 'gene', 'venus', 'barb', 'mars', '613'],\n",
       " ['2006-05-16 23:04:19', 'phil', 'venus', 'barb', 'venus', '10294'],\n",
       " ['2006-05-17 12:49:23', 'phil', 'mars', 'tricia', 'saturn', '873'],\n",
       " ['2006-05-19 22:21:51', 'gene', 'saturn', 'gene', 'venus', '2399']]"
      ]
     },
     "execution_count": 13,
     "metadata": {},
     "output_type": "execute_result"
    }
   ],
   "source": [
    "## parte el archivo por las `,`\n",
    "mail = [row.split(',') for row in mail]\n",
    "mail"
   ]
  },
  {
   "cell_type": "code",
   "execution_count": 14,
   "metadata": {},
   "outputs": [],
   "source": [
    "## separa los nombres y los datos\n",
    "mail = mail[1:]"
   ]
  },
  {
   "cell_type": "code",
   "execution_count": 15,
   "metadata": {},
   "outputs": [
    {
     "data": {
      "text/plain": [
       "[['2006-05-11 10:15:08', 'saturn', 'barb', 'mars', 'tricia', '58274'],\n",
       " ['2006-05-12 12:48:13', 'mars', 'tricia', 'venus', 'gene', '194925'],\n",
       " ['2006-05-12 15:02:49', 'mars', 'phil', 'saturn', 'phill', '1048'],\n",
       " ['2006-05-13 13:59:18', 'saturn', 'barb', 'venus', 'tricia', '271'],\n",
       " ['2006-05-14 9:31:37', 'venus', 'gene', 'mars', 'barb', '2291'],\n",
       " ['2006-05-14 11:52:17', 'mars', 'phil', 'saturn', 'tricia', '5781'],\n",
       " ['2006-05-14 14:42:21', 'venus', 'barb', 'venus', 'barb', '98151'],\n",
       " ['2006-05-14 17:03:01', 'saturn', 'tricia', 'venus', 'phil', '2394482'],\n",
       " ['2006-05-15 7:17:48', 'mars', 'gene', 'saturn', 'gene', '3824'],\n",
       " ['2006-05-15 8:50:57', 'venus', 'phil', 'venus', 'phil', '978'],\n",
       " ['2006-05-15 10:25:52', 'mars', 'gene', 'saturn', 'tricia', '998532'],\n",
       " ['2006-05-15 17:35:31', 'saturn', 'gene', 'mars', 'gene', '3856'],\n",
       " ['2006-05-16 9:00:28', 'venus', 'gene', 'mars', 'barb', '613'],\n",
       " ['2006-05-16 23:04:19', 'venus', 'phil', 'venus', 'barb', '10294'],\n",
       " ['2006-05-17 12:49:23', 'mars', 'phil', 'saturn', 'tricia', '873'],\n",
       " ['2006-05-19 22:21:51', 'saturn', 'gene', 'venus', 'gene', '2399']]"
      ]
     },
     "execution_count": 15,
     "metadata": {},
     "output_type": "execute_result"
    }
   ],
   "source": [
    "## Selección de algunas columnas en diferente orden\n",
    "[[row[0], row[2], row[1],row[4], row[3], row[5]] for row in mail]"
   ]
  },
  {
   "cell_type": "code",
   "execution_count": 17,
   "metadata": {},
   "outputs": [
    {
     "data": {
      "text/plain": [
       "[['2006-05-14 9:31:37', 'venus', 'gene'],\n",
       " ['2006-05-14 14:42:21', 'venus', 'barb'],\n",
       " ['2006-05-15 8:50:57', 'venus', 'phil'],\n",
       " ['2006-05-16 9:00:28', 'venus', 'gene'],\n",
       " ['2006-05-16 23:04:19', 'venus', 'phil']]"
      ]
     },
     "execution_count": 17,
     "metadata": {},
     "output_type": "execute_result"
    }
   ],
   "source": [
    "## se quiere seleccionar las filas donde srchost='venus'\n",
    "## Selección de algunas columnas en diferente orden\n",
    "[[row [0], row[2], row[1]] for row in mail if row[2] == 'venus']"
   ]
  },
  {
   "cell_type": "code",
   "execution_count": 18,
   "metadata": {},
   "outputs": [
    {
     "data": {
      "text/plain": [
       "[['2006-05-11 10:15:08', 'barb', 'saturn'],\n",
       " ['2006-05-13 13:59:18', 'barb', 'saturn'],\n",
       " ['2006-05-14 17:03:01', 'tricia', 'saturn'],\n",
       " ['2006-05-15 17:35:31', 'gene', 'saturn'],\n",
       " ['2006-05-19 22:21:51', 'gene', 'saturn']]"
      ]
     },
     "execution_count": 18,
     "metadata": {},
     "output_type": "execute_result"
    }
   ],
   "source": [
    "import re\n",
    "[[row[0], row[1], row[2]]for row in mail if re.search('^s', row[2])]\n",
    "\n"
   ]
  },
  {
   "cell_type": "code",
   "execution_count": 19,
   "metadata": {},
   "outputs": [
    {
     "data": {
      "text/plain": [
       "[['2006-05-11 10:15:08', 'barb', 'saturn'],\n",
       " ['2006-05-13 13:59:18', 'barb', 'saturn']]"
      ]
     },
     "execution_count": 19,
     "metadata": {},
     "output_type": "execute_result"
    }
   ],
   "source": [
    "[[row[0], row[1], row[2],] for row in mail if row[1] == 'barb' and row[3] == 'tricia']"
   ]
  },
  {
   "cell_type": "code",
   "execution_count": 20,
   "metadata": {},
   "outputs": [
    {
     "data": {
      "text/plain": [
       "[['2006-05-11 10:15:08', 'barb@saturn', 'tricia@mars'],\n",
       " ['2006-05-12 12:48:13', 'tricia@mars', 'gene@venus'],\n",
       " ['2006-05-12 15:02:49', 'phil@mars', 'phill@saturn'],\n",
       " ['2006-05-13 13:59:18', 'barb@saturn', 'tricia@venus'],\n",
       " ['2006-05-14 9:31:37', 'gene@venus', 'barb@mars'],\n",
       " ['2006-05-14 11:52:17', 'phil@mars', 'tricia@saturn'],\n",
       " ['2006-05-14 14:42:21', 'barb@venus', 'barb@venus'],\n",
       " ['2006-05-14 17:03:01', 'tricia@saturn', 'phil@venus'],\n",
       " ['2006-05-15 7:17:48', 'gene@mars', 'gene@saturn'],\n",
       " ['2006-05-15 8:50:57', 'phil@venus', 'phil@venus'],\n",
       " ['2006-05-15 10:25:52', 'gene@mars', 'tricia@saturn'],\n",
       " ['2006-05-15 17:35:31', 'gene@saturn', 'gene@mars'],\n",
       " ['2006-05-16 9:00:28', 'gene@venus', 'barb@mars'],\n",
       " ['2006-05-16 23:04:19', 'phil@venus', 'barb@venus'],\n",
       " ['2006-05-17 12:49:23', 'phil@mars', 'tricia@saturn'],\n",
       " ['2006-05-19 22:21:51', 'gene@saturn', 'gene@venus']]"
      ]
     },
     "execution_count": 20,
     "metadata": {},
     "output_type": "execute_result"
    }
   ],
   "source": [
    "[[row[0],row[1] + '@' + row[2], row[3]+ '@' +row[4]] for row in mail]"
   ]
  },
  {
   "cell_type": "code",
   "execution_count": 21,
   "metadata": {},
   "outputs": [
    {
     "data": {
      "text/plain": [
       "[['2006-05-14 17:03:01', 'tricia', 'saturn', 'phil', 'venus', '2394482'],\n",
       " ['2006-05-15 10:25:52', 'gene', 'mars', 'tricia', 'saturn', '998532']]"
      ]
     },
     "execution_count": 21,
     "metadata": {},
     "output_type": "execute_result"
    }
   ],
   "source": [
    "[row for row in mail if float(row[5])/1024 > 500]"
   ]
  },
  {
   "cell_type": "code",
   "execution_count": 22,
   "metadata": {},
   "outputs": [
    {
     "data": {
      "text/plain": [
       "['barb',\n",
       " 'tricia',\n",
       " 'phil',\n",
       " 'barb',\n",
       " 'gene',\n",
       " 'phil',\n",
       " 'barb',\n",
       " 'tricia',\n",
       " 'gene',\n",
       " 'phil',\n",
       " 'gene',\n",
       " 'gene',\n",
       " 'gene',\n",
       " 'phil',\n",
       " 'phil',\n",
       " 'gene']"
      ]
     },
     "execution_count": 22,
     "metadata": {},
     "output_type": "execute_result"
    }
   ],
   "source": [
    "[row[1] for row in mail]"
   ]
  },
  {
   "cell_type": "code",
   "execution_count": 23,
   "metadata": {},
   "outputs": [
    {
     "data": {
      "text/plain": [
       "{'barb', 'gene', 'phil', 'tricia'}"
      ]
     },
     "execution_count": 23,
     "metadata": {},
     "output_type": "execute_result"
    }
   ],
   "source": [
    "set([row[1] for row in mail])"
   ]
  },
  {
   "cell_type": "code",
   "execution_count": 25,
   "metadata": {},
   "outputs": [
    {
     "data": {
      "text/plain": [
       "4"
      ]
     },
     "execution_count": 25,
     "metadata": {},
     "output_type": "execute_result"
    }
   ],
   "source": [
    "len(set([row[1] for row in mail]))"
   ]
  },
  {
   "cell_type": "code",
   "execution_count": 30,
   "metadata": {},
   "outputs": [
    {
     "data": {
      "text/plain": [
       "[['T', 'srcuser', 'srchost', 'dstuser', 'dsthost', 'size'],\n",
       " ['2006-05-11 10:15:08', 'barb', 'saturn', 'tricia', 'mars', '58274'],\n",
       " ['2006-05-12 12:48:13', 'tricia', 'mars', 'gene', 'venus', '194925'],\n",
       " ['2006-05-12 15:02:49', 'phil', 'mars', 'phill', 'saturn', '1048'],\n",
       " ['2006-05-13 13:59:18', 'barb', 'saturn', 'tricia', 'venus', '271'],\n",
       " ['2006-05-14 9:31:37', 'gene', 'venus', 'barb', 'mars', '2291'],\n",
       " ['2006-05-14 11:52:17', 'phil', 'mars', 'tricia', 'saturn', '5781'],\n",
       " ['2006-05-14 14:42:21', 'barb', 'venus', 'barb', 'venus', '98151'],\n",
       " ['2006-05-14 17:03:01', 'tricia', 'saturn', 'phil', 'venus', '2394482'],\n",
       " ['2006-05-15 7:17:48', 'gene', 'mars', 'gene', 'saturn', '3824'],\n",
       " ['2006-05-15 8:50:57', 'phil', 'venus', 'phil', 'venus', '978'],\n",
       " ['2006-05-15 10:25:52', 'gene', 'mars', 'tricia', 'saturn', '998532'],\n",
       " ['2006-05-15 17:35:31', 'gene', 'saturn', 'gene', 'mars', '3856'],\n",
       " ['2006-05-16 9:00:28', 'gene', 'venus', 'barb', 'mars', '613'],\n",
       " ['2006-05-16 23:04:19', 'phil', 'venus', 'barb', 'venus', '10294'],\n",
       " ['2006-05-17 12:49:23', 'phil', 'mars', 'tricia', 'saturn', '873'],\n",
       " ['2006-05-19 22:21:51', 'gene', 'saturn', 'gene', 'venus', '2399']]"
      ]
     },
     "execution_count": 30,
     "metadata": {},
     "output_type": "execute_result"
    }
   ],
   "source": [
    "taxpayer = open('tabla.csv', 'r').readlines()\n",
    "taxpayer = [row[0:-1] for row in taxpayer]\n",
    "taxpayer = [row.split(',') for row in taxpayer]\n",
    "taxpayer"
   ]
  },
  {
   "cell_type": "code",
   "execution_count": 31,
   "metadata": {},
   "outputs": [
    {
     "data": {
      "text/plain": [
       "[['T', 'srcuser', 'srchost', 'dstuser', 'dsthost', 'size'],\n",
       " ['2006-05-11 10:15:08', 'barb', 'saturn', 'tricia', 'mars', '58274'],\n",
       " ['2006-05-12 12:48:13', 'tricia', 'mars', 'gene', 'venus', '194925'],\n",
       " ['2006-05-12 15:02:49', 'phil', 'mars', 'phill', 'saturn', '1048'],\n",
       " ['2006-05-13 13:59:18', 'barb', 'saturn', 'tricia', 'venus', '271'],\n",
       " ['2006-05-14 9:31:37', 'gene', 'venus', 'barb', 'mars', '2291'],\n",
       " ['2006-05-14 11:52:17', 'phil', 'mars', 'tricia', 'saturn', '5781'],\n",
       " ['2006-05-14 14:42:21', 'barb', 'venus', 'barb', 'venus', '98151'],\n",
       " ['2006-05-14 17:03:01', 'tricia', 'saturn', 'phil', 'venus', '2394482'],\n",
       " ['2006-05-15 7:17:48', 'gene', 'mars', 'gene', 'saturn', '3824'],\n",
       " ['2006-05-15 8:50:57', 'phil', 'venus', 'phil', 'venus', '978'],\n",
       " ['2006-05-15 10:25:52', 'gene', 'mars', 'tricia', 'saturn', '998532'],\n",
       " ['2006-05-15 17:35:31', 'gene', 'saturn', 'gene', 'mars', '3856'],\n",
       " ['2006-05-16 9:00:28', 'gene', 'venus', 'barb', 'mars', '613'],\n",
       " ['2006-05-16 23:04:19', 'phil', 'venus', 'barb', 'venus', '10294'],\n",
       " ['2006-05-17 12:49:23', 'phil', 'mars', 'tricia', 'saturn', '873'],\n",
       " ['2006-05-19 22:21:51', 'gene', 'saturn', 'gene', 'venus', '2399']]"
      ]
     },
     "execution_count": 31,
     "metadata": {},
     "output_type": "execute_result"
    }
   ],
   "source": [
    "taxpayer = [ [element if element != 'NULL' else None for element in row] for row in taxpayer]\n",
    "taxpayer"
   ]
  },
  {
   "cell_type": "code",
   "execution_count": 32,
   "metadata": {},
   "outputs": [
    {
     "data": {
      "text/plain": [
       "[['T', 'srcuser', 'srchost', 'dstuser', 'dsthost', 'size'],\n",
       " ['2006-05-11 10:15:08', 'barb', 'saturn', 'tricia', 'mars', '58274'],\n",
       " ['2006-05-12 12:48:13', 'tricia', 'mars', 'gene', 'venus', '194925'],\n",
       " ['2006-05-12 15:02:49', 'phil', 'mars', 'phill', 'saturn', '1048'],\n",
       " ['2006-05-13 13:59:18', 'barb', 'saturn', 'tricia', 'venus', '271'],\n",
       " ['2006-05-14 9:31:37', 'gene', 'venus', 'barb', 'mars', '2291'],\n",
       " ['2006-05-14 11:52:17', 'phil', 'mars', 'tricia', 'saturn', '5781'],\n",
       " ['2006-05-14 14:42:21', 'barb', 'venus', 'barb', 'venus', '98151'],\n",
       " ['2006-05-14 17:03:01', 'tricia', 'saturn', 'phil', 'venus', '2394482'],\n",
       " ['2006-05-15 7:17:48', 'gene', 'mars', 'gene', 'saturn', '3824'],\n",
       " ['2006-05-15 8:50:57', 'phil', 'venus', 'phil', 'venus', '978'],\n",
       " ['2006-05-15 10:25:52', 'gene', 'mars', 'tricia', 'saturn', '998532'],\n",
       " ['2006-05-15 17:35:31', 'gene', 'saturn', 'gene', 'mars', '3856'],\n",
       " ['2006-05-16 9:00:28', 'gene', 'venus', 'barb', 'mars', '613'],\n",
       " ['2006-05-16 23:04:19', 'phil', 'venus', 'barb', 'venus', '10294'],\n",
       " ['2006-05-17 12:49:23', 'phil', 'mars', 'tricia', 'saturn', '873'],\n",
       " ['2006-05-19 22:21:51', 'gene', 'saturn', 'gene', 'venus', '2399']]"
      ]
     },
     "execution_count": 32,
     "metadata": {},
     "output_type": "execute_result"
    }
   ],
   "source": [
    "[row for row in taxpayer if row[1] is not None]"
   ]
  },
  {
   "cell_type": "code",
   "execution_count": 33,
   "metadata": {},
   "outputs": [
    {
     "data": {
      "text/plain": [
       "[['2006-05-12 12:48:13', 'tricia', 'mars', 'gene', 'venus', '194925'],\n",
       " ['2006-05-14 17:03:01', 'tricia', 'saturn', 'phil', 'venus', '2394482'],\n",
       " ['2006-05-15 10:25:52', 'gene', 'mars', 'tricia', 'saturn', '998532']]"
      ]
     },
     "execution_count": 33,
     "metadata": {},
     "output_type": "execute_result"
    }
   ],
   "source": [
    "from operator import itemgetter\n",
    "sorted([row for row in mail if int(row[5])> 100000], key=itemgetter(5))"
   ]
  },
  {
   "cell_type": "code",
   "execution_count": 34,
   "metadata": {},
   "outputs": [
    {
     "data": {
      "text/plain": [
       "[['2006-05-11 10:15:08', 'barb', 'saturn', 'tricia', 'mars', 58274],\n",
       " ['2006-05-12 12:48:13', 'tricia', 'mars', 'gene', 'venus', 194925],\n",
       " ['2006-05-12 15:02:49', 'phil', 'mars', 'phill', 'saturn', 1048],\n",
       " ['2006-05-13 13:59:18', 'barb', 'saturn', 'tricia', 'venus', 271],\n",
       " ['2006-05-14 9:31:37', 'gene', 'venus', 'barb', 'mars', 2291],\n",
       " ['2006-05-14 11:52:17', 'phil', 'mars', 'tricia', 'saturn', 5781],\n",
       " ['2006-05-14 14:42:21', 'barb', 'venus', 'barb', 'venus', 98151],\n",
       " ['2006-05-14 17:03:01', 'tricia', 'saturn', 'phil', 'venus', 2394482],\n",
       " ['2006-05-15 7:17:48', 'gene', 'mars', 'gene', 'saturn', 3824],\n",
       " ['2006-05-15 8:50:57', 'phil', 'venus', 'phil', 'venus', 978],\n",
       " ['2006-05-15 10:25:52', 'gene', 'mars', 'tricia', 'saturn', 998532],\n",
       " ['2006-05-15 17:35:31', 'gene', 'saturn', 'gene', 'mars', 3856],\n",
       " ['2006-05-16 9:00:28', 'gene', 'venus', 'barb', 'mars', 613],\n",
       " ['2006-05-16 23:04:19', 'phil', 'venus', 'barb', 'venus', 10294],\n",
       " ['2006-05-17 12:49:23', 'phil', 'mars', 'tricia', 'saturn', 873],\n",
       " ['2006-05-19 22:21:51', 'gene', 'saturn', 'gene', 'venus', 2399]]"
      ]
     },
     "execution_count": 34,
     "metadata": {},
     "output_type": "execute_result"
    }
   ],
   "source": [
    "mail = [[element if index != 5 else int (element) for index, element in enumerate (row)] for row in mail]\n",
    "mail"
   ]
  },
  {
   "cell_type": "code",
   "execution_count": 35,
   "metadata": {},
   "outputs": [
    {
     "data": {
      "text/plain": [
       "[['2006-05-12 12:48:13', 'tricia', 'mars', 'gene', 'venus', 194925],\n",
       " ['2006-05-15 10:25:52', 'gene', 'mars', 'tricia', 'saturn', 998532],\n",
       " ['2006-05-14 17:03:01', 'tricia', 'saturn', 'phil', 'venus', 2394482]]"
      ]
     },
     "execution_count": 35,
     "metadata": {},
     "output_type": "execute_result"
    }
   ],
   "source": [
    "sorted ([row for row in mail if int(row[5])> 100000], key=itemgetter(5))"
   ]
  },
  {
   "cell_type": "code",
   "execution_count": 36,
   "metadata": {},
   "outputs": [
    {
     "data": {
      "text/plain": [
       "[['2006-05-14 14:42:21', 'barb', 'venus', 'barb', 'venus', 98151],\n",
       " ['2006-05-11 10:15:08', 'barb', 'saturn', 'tricia', 'mars', 58274],\n",
       " ['2006-05-13 13:59:18', 'barb', 'saturn', 'tricia', 'venus', 271],\n",
       " ['2006-05-14 9:31:37', 'gene', 'venus', 'barb', 'mars', 2291],\n",
       " ['2006-05-16 9:00:28', 'gene', 'venus', 'barb', 'mars', 613],\n",
       " ['2006-05-15 7:17:48', 'gene', 'mars', 'gene', 'saturn', 3824],\n",
       " ['2006-05-15 17:35:31', 'gene', 'saturn', 'gene', 'mars', 3856],\n",
       " ['2006-05-19 22:21:51', 'gene', 'saturn', 'gene', 'venus', 2399],\n",
       " ['2006-05-15 10:25:52', 'gene', 'mars', 'tricia', 'saturn', 998532],\n",
       " ['2006-05-16 23:04:19', 'phil', 'venus', 'barb', 'venus', 10294],\n",
       " ['2006-05-15 8:50:57', 'phil', 'venus', 'phil', 'venus', 978],\n",
       " ['2006-05-12 15:02:49', 'phil', 'mars', 'phill', 'saturn', 1048],\n",
       " ['2006-05-14 11:52:17', 'phil', 'mars', 'tricia', 'saturn', 5781],\n",
       " ['2006-05-17 12:49:23', 'phil', 'mars', 'tricia', 'saturn', 873],\n",
       " ['2006-05-12 12:48:13', 'tricia', 'mars', 'gene', 'venus', 194925],\n",
       " ['2006-05-14 17:03:01', 'tricia', 'saturn', 'phil', 'venus', 2394482]]"
      ]
     },
     "execution_count": 36,
     "metadata": {},
     "output_type": "execute_result"
    }
   ],
   "source": [
    "sorted([row for row in mail], key=itemgetter(1,3))"
   ]
  },
  {
   "cell_type": "code",
   "execution_count": null,
   "metadata": {},
   "outputs": [],
   "source": []
  }
 ],
 "metadata": {
  "kernelspec": {
   "display_name": "Python 3",
   "language": "python",
   "name": "python3"
  },
  "language_info": {
   "codemirror_mode": {
    "name": "ipython",
    "version": 3
   },
   "file_extension": ".py",
   "mimetype": "text/x-python",
   "name": "python",
   "nbconvert_exporter": "python",
   "pygments_lexer": "ipython3",
   "version": "3.7.3"
  }
 },
 "nbformat": 4,
 "nbformat_minor": 2
}
